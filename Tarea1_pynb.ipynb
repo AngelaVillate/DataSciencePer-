{
  "nbformat": 4,
  "nbformat_minor": 0,
  "metadata": {
    "colab": {
      "provenance": []
    },
    "kernelspec": {
      "name": "python3",
      "display_name": "Python 3"
    },
    "language_info": {
      "name": "python"
    }
  },
  "cells": [
    {
      "cell_type": "markdown",
      "source": [
        "Tarea 1.\n",
        "**NLP** \n",
        "Por Angela Cristina Villate\n",
        "angevillate@gmail.com\n",
        "\n",
        "\n",
        "\n"
      ],
      "metadata": {
        "id": "p4QwRAza_x5Z"
      }
    },
    {
      "cell_type": "code",
      "execution_count": null,
      "metadata": {
        "colab": {
          "base_uri": "https://localhost:8080/"
        },
        "id": "9KAdtlTSTqun",
        "outputId": "833437dc-4d01-4fdf-b10c-22c1197db167"
      },
      "outputs": [
        {
          "output_type": "stream",
          "name": "stderr",
          "text": [
            "[nltk_data] Downloading package punkt to /root/nltk_data...\n",
            "[nltk_data]   Unzipping tokenizers/punkt.zip.\n",
            "[nltk_data] Downloading collection 'book'\n",
            "[nltk_data]    | \n",
            "[nltk_data]    | Downloading package abc to /root/nltk_data...\n",
            "[nltk_data]    |   Unzipping corpora/abc.zip.\n",
            "[nltk_data]    | Downloading package brown to /root/nltk_data...\n",
            "[nltk_data]    |   Unzipping corpora/brown.zip.\n",
            "[nltk_data]    | Downloading package chat80 to /root/nltk_data...\n",
            "[nltk_data]    |   Unzipping corpora/chat80.zip.\n",
            "[nltk_data]    | Downloading package cmudict to /root/nltk_data...\n",
            "[nltk_data]    |   Unzipping corpora/cmudict.zip.\n",
            "[nltk_data]    | Downloading package conll2000 to /root/nltk_data...\n",
            "[nltk_data]    |   Unzipping corpora/conll2000.zip.\n",
            "[nltk_data]    | Downloading package conll2002 to /root/nltk_data...\n",
            "[nltk_data]    |   Unzipping corpora/conll2002.zip.\n",
            "[nltk_data]    | Downloading package dependency_treebank to\n",
            "[nltk_data]    |     /root/nltk_data...\n",
            "[nltk_data]    |   Unzipping corpora/dependency_treebank.zip.\n",
            "[nltk_data]    | Downloading package genesis to /root/nltk_data...\n",
            "[nltk_data]    |   Unzipping corpora/genesis.zip.\n",
            "[nltk_data]    | Downloading package gutenberg to /root/nltk_data...\n",
            "[nltk_data]    |   Unzipping corpora/gutenberg.zip.\n",
            "[nltk_data]    | Downloading package ieer to /root/nltk_data...\n",
            "[nltk_data]    |   Unzipping corpora/ieer.zip.\n",
            "[nltk_data]    | Downloading package inaugural to /root/nltk_data...\n",
            "[nltk_data]    |   Unzipping corpora/inaugural.zip.\n",
            "[nltk_data]    | Downloading package movie_reviews to\n",
            "[nltk_data]    |     /root/nltk_data...\n",
            "[nltk_data]    |   Unzipping corpora/movie_reviews.zip.\n",
            "[nltk_data]    | Downloading package nps_chat to /root/nltk_data...\n",
            "[nltk_data]    |   Unzipping corpora/nps_chat.zip.\n",
            "[nltk_data]    | Downloading package names to /root/nltk_data...\n",
            "[nltk_data]    |   Unzipping corpora/names.zip.\n",
            "[nltk_data]    | Downloading package ppattach to /root/nltk_data...\n",
            "[nltk_data]    |   Unzipping corpora/ppattach.zip.\n",
            "[nltk_data]    | Downloading package reuters to /root/nltk_data...\n",
            "[nltk_data]    | Downloading package senseval to /root/nltk_data...\n",
            "[nltk_data]    |   Unzipping corpora/senseval.zip.\n",
            "[nltk_data]    | Downloading package state_union to /root/nltk_data...\n",
            "[nltk_data]    |   Unzipping corpora/state_union.zip.\n",
            "[nltk_data]    | Downloading package stopwords to /root/nltk_data...\n",
            "[nltk_data]    |   Unzipping corpora/stopwords.zip.\n",
            "[nltk_data]    | Downloading package swadesh to /root/nltk_data...\n",
            "[nltk_data]    |   Unzipping corpora/swadesh.zip.\n",
            "[nltk_data]    | Downloading package timit to /root/nltk_data...\n",
            "[nltk_data]    |   Unzipping corpora/timit.zip.\n",
            "[nltk_data]    | Downloading package treebank to /root/nltk_data...\n",
            "[nltk_data]    |   Unzipping corpora/treebank.zip.\n",
            "[nltk_data]    | Downloading package toolbox to /root/nltk_data...\n",
            "[nltk_data]    |   Unzipping corpora/toolbox.zip.\n",
            "[nltk_data]    | Downloading package udhr to /root/nltk_data...\n",
            "[nltk_data]    |   Unzipping corpora/udhr.zip.\n",
            "[nltk_data]    | Downloading package udhr2 to /root/nltk_data...\n",
            "[nltk_data]    |   Unzipping corpora/udhr2.zip.\n",
            "[nltk_data]    | Downloading package unicode_samples to\n",
            "[nltk_data]    |     /root/nltk_data...\n",
            "[nltk_data]    |   Unzipping corpora/unicode_samples.zip.\n",
            "[nltk_data]    | Downloading package webtext to /root/nltk_data...\n",
            "[nltk_data]    |   Unzipping corpora/webtext.zip.\n",
            "[nltk_data]    | Downloading package wordnet to /root/nltk_data...\n",
            "[nltk_data]    | Downloading package wordnet_ic to /root/nltk_data...\n",
            "[nltk_data]    |   Unzipping corpora/wordnet_ic.zip.\n",
            "[nltk_data]    | Downloading package words to /root/nltk_data...\n",
            "[nltk_data]    |   Unzipping corpora/words.zip.\n",
            "[nltk_data]    | Downloading package maxent_treebank_pos_tagger to\n",
            "[nltk_data]    |     /root/nltk_data...\n",
            "[nltk_data]    |   Unzipping taggers/maxent_treebank_pos_tagger.zip.\n",
            "[nltk_data]    | Downloading package maxent_ne_chunker to\n",
            "[nltk_data]    |     /root/nltk_data...\n",
            "[nltk_data]    |   Unzipping chunkers/maxent_ne_chunker.zip.\n",
            "[nltk_data]    | Downloading package universal_tagset to\n",
            "[nltk_data]    |     /root/nltk_data...\n",
            "[nltk_data]    |   Unzipping taggers/universal_tagset.zip.\n",
            "[nltk_data]    | Downloading package punkt to /root/nltk_data...\n",
            "[nltk_data]    |   Package punkt is already up-to-date!\n",
            "[nltk_data]    | Downloading package book_grammars to\n",
            "[nltk_data]    |     /root/nltk_data...\n",
            "[nltk_data]    |   Unzipping grammars/book_grammars.zip.\n",
            "[nltk_data]    | Downloading package city_database to\n",
            "[nltk_data]    |     /root/nltk_data...\n",
            "[nltk_data]    |   Unzipping corpora/city_database.zip.\n",
            "[nltk_data]    | Downloading package tagsets to /root/nltk_data...\n",
            "[nltk_data]    |   Unzipping help/tagsets.zip.\n",
            "[nltk_data]    | Downloading package panlex_swadesh to\n",
            "[nltk_data]    |     /root/nltk_data...\n",
            "[nltk_data]    | Downloading package averaged_perceptron_tagger to\n",
            "[nltk_data]    |     /root/nltk_data...\n",
            "[nltk_data]    |   Unzipping taggers/averaged_perceptron_tagger.zip.\n",
            "[nltk_data]    | \n",
            "[nltk_data]  Done downloading collection book\n"
          ]
        },
        {
          "output_type": "execute_result",
          "data": {
            "text/plain": [
              "True"
            ]
          },
          "metadata": {},
          "execution_count": 3
        }
      ],
      "source": [
        "import nltk\n",
        "nltk.download('punkt')\n",
        "nltk.download('book')"
      ]
    },
    {
      "cell_type": "code",
      "source": [
        "from nltk.book import*"
      ],
      "metadata": {
        "colab": {
          "base_uri": "https://localhost:8080/"
        },
        "id": "MdaFZVDxDy0y",
        "outputId": "fe92fa22-8410-4ff9-9e87-67c3f666b646"
      },
      "execution_count": null,
      "outputs": [
        {
          "output_type": "stream",
          "name": "stdout",
          "text": [
            "*** Introductory Examples for the NLTK Book ***\n",
            "Loading text1, ..., text9 and sent1, ..., sent9\n",
            "Type the name of the text or sentence to view it.\n",
            "Type: 'texts()' or 'sents()' to list the materials.\n",
            "text1: Moby Dick by Herman Melville 1851\n",
            "text2: Sense and Sensibility by Jane Austen 1811\n",
            "text3: The Book of Genesis\n",
            "text4: Inaugural Address Corpus\n",
            "text5: Chat Corpus\n",
            "text6: Monty Python and the Holy Grail\n",
            "text7: Wall Street Journal\n",
            "text8: Personals Corpus\n",
            "text9: The Man Who Was Thursday by G . K . Chesterton 1908\n"
          ]
        }
      ]
    },
    {
      "cell_type": "code",
      "source": [
        "print(len(set(text6)))\n"
      ],
      "metadata": {
        "colab": {
          "base_uri": "https://localhost:8080/"
        },
        "id": "P9Qx7oWr7cR6",
        "outputId": "3f062cd5-cbc3-48b8-b166-50c4e253f7f6"
      },
      "execution_count": null,
      "outputs": [
        {
          "output_type": "stream",
          "name": "stdout",
          "text": [
            "2166\n"
          ]
        }
      ]
    },
    {
      "cell_type": "code",
      "source": [
        "text6"
      ],
      "metadata": {
        "colab": {
          "base_uri": "https://localhost:8080/"
        },
        "id": "q1Mv9EIs7vEi",
        "outputId": "a501a644-f997-429c-d95a-b05fe5b45fb0"
      },
      "execution_count": null,
      "outputs": [
        {
          "output_type": "execute_result",
          "data": {
            "text/plain": [
              "<Text: Monty Python and the Holy Grail>"
            ]
          },
          "metadata": {},
          "execution_count": 6
        }
      ]
    },
    {
      "cell_type": "code",
      "source": [
        "lista2= sorted(word for word in set(text6) if word.endswith('ise'))\n",
        "print (lista2)"
      ],
      "metadata": {
        "colab": {
          "base_uri": "https://localhost:8080/"
        },
        "id": "cCvWYsq0EpiK",
        "outputId": "f0a0bd58-dcef-4496-8a77-1431cbf4c241"
      },
      "execution_count": null,
      "outputs": [
        {
          "output_type": "stream",
          "name": "stdout",
          "text": [
            "['apologise', 'noise', 'surprise', 'wise']\n"
          ]
        }
      ]
    },
    {
      "cell_type": "code",
      "source": [
        "termina_ize =[w for w in text6 if w.endswith('ize')]\n",
        "tienen_z =[w for w in text6 if 'z' in w]\n",
        "secuencia_pt =[w for w in text6 if 'pt' in w]\n",
        "may_title=[w for w in text6 if w.istitle()]\n",
        "print(termina_ize, tienen_z, secuencia_pt, may_title)"
      ],
      "metadata": {
        "colab": {
          "base_uri": "https://localhost:8080/"
        },
        "id": "TbnSksgChXL2",
        "outputId": "1638325b-6af5-4178-9754-51b122d55729"
      },
      "execution_count": null,
      "outputs": [
        {
          "output_type": "stream",
          "name": "stdout",
          "text": [
            "[] ['zone', 'amazes', 'Fetchez', 'Fetchez', 'zoop', 'zoo', 'zhiv', 'frozen', 'zoosh'] ['empty', 'aptly', 'Thpppppt', 'Thppt', 'Thppt', 'empty', 'Thppppt', 'temptress', 'temptation', 'ptoo', 'Chapter', 'excepting', 'Thpppt'] ['Whoa', 'Halt', 'Who', 'It', 'I', 'Arthur', 'Uther', 'Pendragon', 'Camelot', 'King', 'Britons', 'Saxons', 'England', 'Pull', 'I', 'Patsy', 'We', 'Camelot', 'I', 'What', 'Ridden', 'Yes', 'You', 'What', 'You', 'So', 'We', 'Mercea', 'Where', 'We', 'Found', 'In', 'Mercea', 'The', 'What', 'Well', 'The', 'Are', 'Not', 'They', 'What', 'A', 'It', 'It', 'It', 'A', 'Well', 'Will', 'Arthur', 'Court', 'Camelot', 'Listen', 'In', 'Please', 'Am', 'I', 'I', 'It', 'African', 'Oh', 'African', 'European', 'That', 'Oh', 'I', 'Will', 'Camelot', 'But', 'African', 'Oh', 'So', 'Wait', 'Supposing', 'No', 'Well', 'They', 'What', 'Well', 'Bring', 'Bring', 'Bring', 'Bring', 'Bring', 'Bring', 'Bring', 'Bring', 'Ninepence', 'Bring', 'Bring', 'Bring', 'Bring', 'Here', 'Ninepence', 'I', 'What', 'Nothing', 'Here', 'I', 'Ere', 'He', 'Yes', 'I', 'He', 'Well', 'He', 'I', 'No', 'You', 'Oh', 'I', 'It', 'I', 'Oh', 'I', 'I', 'Well', 'I', 'Well', 'He', 'No', 'I', 'Robinson', 'They', 'Well', 'Thursday', 'I', 'I', 'You', 'Look', 'I', 'I', 'Ah', 'Not', 'See', 'Thursday', 'Right', 'All', 'Who', 'I', 'Must', 'Why', 'He', 'King', 'Arthur', 'King', 'Arthur', 'Old', 'Man', 'Man', 'Sorry', 'What', 'I', 'I', 'I', 'I', 'Well', 'I', 'Man', 'Well', 'Dennis', 'Well', 'I', 'Dennis', 'Well', 'I', 'What', 'I', 'Well', 'I', 'Oh', 'And', 'By', 'By', 'If', 'Dennis', 'Oh', 'How', 'How', 'I', 'Arthur', 'King', 'Britons', 'Who', 'King', 'The', 'Britons', 'Who', 'Britons', 'Well', 'We', 'Britons', 'I', 'I', 'I', 'You', 'We', 'A', 'Oh', 'That', 'If', 'Please', 'I', 'Who', 'No', 'Then', 'We', 'What', 'I', 'We', 'We', 'Yes', 'But', 'Yes', 'I', 'By', 'Be', 'But', 'Be', 'I', 'Order', 'Who', 'Heh', 'I', 'Well', 'I', 'You', 'Well', 'The', 'Lady', 'Lake', 'Excalibur', 'Divine', 'Providence', 'I', 'Arthur', 'Excalibur', 'That', 'I', 'Listen', 'Supreme', 'Be', 'Well', 'Shut', 'I', 'I', 'I', 'Shut', 'Shut', 'Ah', 'Shut', 'Oh', 'Come', 'Help', 'I', 'Bloody', 'Oh', 'Did', 'Did', 'That', 'I', 'Did', 'You', 'King', 'Arthur', 'Aaagh', 'King', 'Arthur', 'Aaagh', 'Ooh', 'King', 'Arthur', 'Aagh', 'Oh', 'King', 'Arthur', 'Ooh', 'Aaagh', 'Agh', 'Aaaaaah', 'Aaaaaaaaah', 'Umm', 'You', 'Sir', 'Knight', 'I', 'Arthur', 'King', 'Britons', 'I', 'Camelot', 'You', 'Will', 'You', 'So', 'Come', 'Patsy', 'None', 'What', 'None', 'I', 'Sir', 'Knight', 'I', 'Then', 'I', 'King', 'Britons', 'I', 'So', 'Aaah', 'Now', 'Tis', 'A', 'Your', 'No', 'Well', 'I', 'You', 'Come', 'Huyah', 'Hiyaah', 'Aaaaaaaah', 'Victory', 'We', 'Thee', 'Lord', 'Thy', 'Hah', 'Come', 'What', 'Have', 'Eh', 'You', 'Sir', 'Knight', 'Oh', 'Look', 'You', 'Yes', 'I', 'Look', 'Just', 'Look', 'Chicken', 'Chickennn', 'Look', 'I', 'Right', 'Right', 'I', 'You', 'Come', 'What', 'I', 'You', 'The', 'Black', 'Knight', 'Have', 'Come', 'Ooh', 'All', 'Come', 'Patsy', 'Oh', 'Oh', 'I', 'Running', 'You', 'Come', 'I', 'Pie', 'Iesu', 'Pie', 'Iesu', 'Pie', 'Iesu', 'A', 'A', 'A', 'A', 'Pie', 'Iesu', 'A', 'A', 'A', 'A', 'We', 'A', 'A', 'A', 'A', 'We', 'A', 'A', 'Burn', 'Burn', 'Burn', 'We', 'We', 'A', 'A', 'A', 'We', 'May', 'Burn', 'Burn', 'Burn', 'Burn', 'How', 'She', 'Right', 'Yeah', 'Yeah', 'Bring', 'I', 'I', 'Uh', 'They', 'Augh', 'We', 'And', 'It', 'Well', 'Well', 'The', 'And', 'Yeah', 'We', 'Right', 'Yeaaah', 'Yeaah', 'Did', 'No', 'No', 'No', 'No', 'No', 'No', 'Yes', 'Yes', 'Yes', 'Yeah', 'A', 'A', 'A', 'She', 'What', 'Well', 'A', 'I', 'Burn', 'Burn', 'Burn', 'Burn', 'Burn', 'Quiet', 'Quiet', 'Quiet', 'Quiet', 'There', 'Are', 'Ah', 'What', 'Tell', 'Tell', 'Tell', 'Burn', 'Burn', 'Burn', 'Burn', 'Burn', 'And', 'More', 'Shh', 'Wood', 'So', 'B', 'Good', 'Heh', 'Oh', 'Oh', 'So', 'Build', 'Ah', 'Oh', 'Oh', 'True', 'Uhh', 'Does', 'No', 'No', 'No', 'It', 'Throw', 'The', 'Throw', 'What', 'Bread', 'Apples', 'Uh', 'Cider', 'Uh', 'Cherries', 'Mud', 'Churches', 'Churches', 'Lead', 'Lead', 'A', 'Oooh', 'Exactly', 'So', 'If', 'And', 'A', 'A', 'A', 'A', 'Here', 'Use', 'We', 'Ohh', 'Ohh', 'Burn', 'Burn', 'Burn', 'Burn', 'Burn', 'Burn', 'Burn', 'Burn', 'Burn', 'Ahh', 'Ahh', 'Right', 'Remove', 'A', 'A', 'A', 'It', 'Burn', 'Burn', 'Burn', 'Burn', 'Burn', 'Burn', 'Who', 'I', 'Arthur', 'King', 'Britons', 'My', 'Good', 'Sir', 'Knight', 'Camelot', 'Round', 'Table', 'My', 'I', 'What', 'Bedevere', 'Then', 'I', 'Sir', 'Bedevere', 'Knight', 'Round', 'Table', 'The', 'Sir', 'Bedevere', 'King', 'Arthur', 'Sir', 'Lancelot', 'Brave', 'Sir', 'Gallahad', 'Pure', 'Sir', 'Robin', 'Sir', 'Lancelot', 'Dragon', 'Angnor', 'Chicken', 'Bristol', 'Battle', 'Badon', 'Hill', 'Sir', 'Not', 'Together', 'Knights', 'Round', 'Table', 'And', 'This', 'Sir', 'Bedevere', 'Explain', 'Oh', 'Look', 'Camelot', 'Camelot', 'Camelot', 'It', 'Shh', 'Knights', 'I', 'Let', 'Camelot', 'We', 'We', 'We', 'With', 'We', 'Camelot', 'We', 'We', 'Round', 'Table', 'Our', 'But', 'That', 'We', 'Camelot', 'We', 'In', 'Quite', 'Between', 'Clark', 'Gable', 'It', 'Camelot', 'I', 'Well', 'Camelot', 'It', 'Right', 'Right', 'Arthur', 'Arthur', 'King', 'Britons', 'Oh', 'One', 'I', 'Sorry', 'And', 'Every', 'I', 'I', 'What', 'I', 'O', 'Lord', 'Well', 'It', 'Psalms', 'Now', 'Yes', 'Lord', 'Right', 'Arthur', 'King', 'Britons', 'Knights', 'Round', 'Table', 'Good', 'O', 'Lord', 'Course', 'Behold', 'Arthur', 'Holy', 'Grail', 'Look', 'Arthur', 'That', 'Arthur', 'Holy', 'Grail', 'A', 'A', 'Lord', 'God', 'King', 'Arthur', 'Halt', 'Hallo', 'Hallo', 'Allo', 'Who', 'It', 'King', 'Arthur', 'Knights', 'Round', 'Table', 'Who', 'This', 'Guy', 'Loimbard', 'Go', 'God', 'If', 'Holy', 'Grail', 'Well', 'I', 'I', 'Uh', 'What', 'He', 'Are', 'Oh', 'I', 'Well', 'Of', 'You', 'English', 'Well', 'I', 'French', 'Why', 'I', 'What', 'England', 'Mind', 'If', 'Grail', 'You', 'English', 'Go', 'I', 'Arthur', 'King', 'English', 'Thpppppt', 'Thppt', 'Thppt', 'What', 'Now', 'I', 'I', 'You', 'Is', 'No', 'I', 'Now', 'I', 'Fetchez', 'Quoi', 'Fetchez', 'If', 'I', 'Jesus', 'Christ', 'Christ', 'Ah', 'Ohh', 'Right', 'Charge', 'Charge', 'Hey', 'There', 'And', 'Run', 'Run', 'Thppppt', 'Fiends', 'I', 'No', 'No', 'Sir', 'I', 'C', 'Quoi', 'Un', 'What', 'A', 'Oh', 'Oui', 'Hurry', 'What', 'Let', 'Oh', 'On', 'Bon', 'Over', 'What', 'Well', 'Launcelot', 'Galahad', 'I', 'French', 'Not', 'Who', 'U', 'Launcelot', 'Galahad', 'I', 'Uh', 'Ohh', 'Oh', 'Um', 'Run', 'Run', 'Run', 'Run', 'Run', 'Run', 'Run', 'Run', 'Oh', 'Haw', 'Haw', 'Picture', 'Schools', 'Action', 'Defeat', 'King', 'Arthur', 'The', 'French', 'Arthur', 'Holy', 'Grail', 'Arthur', 'Grail', 'Now', 'Launcelot', 'Aaaah', 'S', 'Frank', 'The', 'Tale', 'Sir', 'Robin', 'So', 'Sir', 'Robin', 'Ewing', 'Bravely', 'Sir', 'Robin', 'Camelot', 'He', 'O', 'Sir', 'Robin', 'He', 'Brave', 'Sir', 'Robin', 'He', 'Or', 'To', 'And', 'Sir', 'Robin', 'His', 'And', 'And', 'And', 'That', 'Heh', 'Looks', 'Anarcho', 'Oh', 'Dennis', 'We', 'Halt', 'Who', 'He', 'Sir', 'Robin', 'Sir', 'Robin', 'Shut', 'Um', 'I', 'What', 'To', 'Shut', 'Um', 'I', 'Sir', 'Knight', 'I', 'Ah', 'W', 'I', 'I', 'Knight', 'Round', 'Table', 'You', 'Knight', 'Round', 'Table', 'I', 'In', 'I', 'Shall', 'I', 'Oh', 'I', 'Well', 'I', 'I', 'Oh', 'Oh', 'Perhaps', 'I', 'And', 'Oh', 'Get', 'I', 'Oh', 'Yes', 'What', 'Yapping', 'You', 'You', 'What', 'You', 'Oh', 'I', 'Anyway', 'Well', 'Oh', 'Oh', 'All', 'All', 'We', 'Yes', 'Oh', 'All', 'All', 'Right', 'He', 'So', 'He', 'Brave', 'Sir', 'Robin', 'No', 'Bravely', 'I', 'When', 'No', 'Yes', 'Sir', 'Robin', 'I', 'And', 'I', 'He', 'All', 'Bravest', 'Sir', 'Robin', 'I', 'Pie', 'Iesu', 'Heh', 'Pie', 'Iesu', 'Wayy', 'Ho', 'Woa', 'Heh', 'Heh', 'Wayy', 'Wayy', 'Forgive', 'Oh', 'Oooo', 'The', 'Tale', 'Sir', 'Galahad', 'Open', 'Open', 'In', 'King', 'Arthur', 'Hello', 'Welcome', 'Sir', 'Knight', 'Welcome', 'Castle', 'Anthrax', 'The', 'Castle', 'Anthrax', 'Yes', 'Oh', 'Oh', 'You', 'Holy', 'Grail', 'The', 'The', 'Grail', 'It', 'Oh', 'Midget', 'Crapper', 'Yes', 'O', 'Zoot', 'Prepare', 'Oh', 'Thank', 'Thank', 'Thank', 'Thank', 'Thank', 'Away', 'The', 'Well', 'I', 'I', 'What', 'Sir', 'Galahad', 'Chaste', 'Mine', 'Zoot', 'Just', 'Zoot', 'Oh', 'Look', 'In', 'God', 'Grail', 'Oh', 'You', 'No', 'I', 'It', 'Sir', 'Galahad', 'You', 'Well', 'I', 'I', 'Oh', 'I', 'We', 'Oooh', 'It', 'We', 'Nay', 'Nay', 'Come', 'Come', 'You', 'Oh', 'No', 'Oh', 'No', 'Lie', 'Well', 'They', 'Uh', 'B', 'Oh', 'You', 'Doctor', 'Piglet', 'Doctor', 'Winston', 'Practice', 'Try', 'Are', 'We', 'There', 'Please', 'We', 'Look', 'This', 'I', 'Back', 'At', 'Torment', 'I', 'Grail', 'There', 'I', 'I', 'I', 'Hello', 'Oh', 'Hello', 'Hello', 'Hello', 'Hello', 'Hello', 'Hello', 'Hello', 'Hello', 'Hello', 'Hello', 'Hello', 'Hello', 'Hello', 'Hello', 'Hello', 'Hello', 'Hello', 'Hello', 'Hello', 'Hello', 'Hello', 'Hello', 'Hello', 'Zoot', 'No', 'I', 'Zoot', 'Dingo', 'Oh', 'I', 'Where', 'I', 'Grail', 'I', 'Oh', 'Oh', 'Bad', 'Zoot', 'Well', 'Oh', 'Zoot', 'She', 'I', 'It', 'It', 'Grail', 'Oh', 'Zoot', 'She', 'Do', 'We', 'It', 'I', 'At', 'Well', 'It', 'Get', 'Yes', 'Yes', 'Oh', 'I', 'Get', 'Oh', 'Zoot', 'Oh', 'And', 'Castle', 'Anthrax', 'You', 'A', 'A', 'You', 'And', 'And', 'And', 'And', 'And', 'Yes', 'A', 'A', 'There', 'And', 'The', 'The', 'Well', 'I', 'Sir', 'Galahad', 'Oh', 'Quick', 'What', 'Quick', 'Why', 'You', 'No', 'Silence', 'You', 'Come', 'We', 'Look', 'I', 'Come', 'Sir', 'Galahad', 'No', 'Look', 'I', 'Yes', 'Let', 'Yes', 'Let', 'No', 'Sir', 'Galahad', 'Come', 'No', 'Really', 'Honestly', 'I', 'I', 'Oh', 'Let', 'Yes', 'Let', 'No', 'Quick', 'Quick', 'Please', 'I', 'There', 'Yes', 'He', 'We', 'We', 'He', 'Oh', 'We', 'You', 'I', 'I', 'Yes', 'You', 'Look', 'No', 'Look', 'I', 'No', 'Holy', 'Grail', 'Come', 'Oh', 'No', 'It', 'I', 'No', 'I', 'Sir', 'Launcelot', 'Sir', 'Galahad', 'Grail', 'Meanwhile', 'King', 'Arthur', 'Sir', 'Bedevere', 'Oh', 'I', 'I', 'Get', 'Oh', 'On', 'Arthur', 'I', 'Heh', 'Hee', 'And', 'Grail', 'Ha', 'Heh', 'Ha', 'Ha', 'Where', 'Heh', 'Old', 'Hee', 'He', 'And', 'Grail', 'The', 'Grail', 'There', 'Gorge', 'Eternal', 'Peril', 'But', 'Grail', 'Where', 'Grail', 'Seek', 'Bridge', 'Death', 'The', 'Bridge', 'Death', 'Grail', 'Heh', 'Ha', 'Hee', 'Ni', 'Ni', 'Ni', 'Ni', 'Ni', 'Ni', 'Who', 'We', 'Knights', 'Who', 'Say', 'Ni', 'Ni', 'No', 'Not', 'Knights', 'Who', 'Say', 'Ni', 'The', 'Who', 'We', 'Ni', 'Peng', 'Neee', 'Neee', 'Those', 'The', 'Knights', 'Who', 'Say', 'Ni', 'Knights', 'Ni', 'Ni', 'Ni', 'Ni', 'Ni', 'Ni', 'Ni', 'Ow', 'Ow', 'Ow', 'Agh', 'We', 'Well', 'We', 'A', 'Ni', 'Ni', 'Ni', 'Ni', 'Ow', 'Oh', 'Please', 'No', 'We', 'You', 'O', 'Knights', 'Ni', 'One', 'Of', 'And', 'Yes', 'Now', 'Hmm', 'Oh', 'Great', 'Hm', 'Hmm', 'Hm', 'Hmm', 'Ohh', 'Ay', 'Thsss', 'Ayy', 'Thsss', 'Ayy', 'Stop', 'Stop', 'Ay', 'Stop', 'Look', 'Clear', 'Go', 'Go', 'Go', 'Go', 'And', 'Clear', 'Hah', 'Bloody', 'The', 'Tale', 'Sir', 'Launcelot', 'One', 'What', 'No', 'Not', 'All', 'This', 'But', 'Mother', 'Father', 'Father', 'B', 'Father', 'I', 'Listen', 'I', 'When', 'I', 'Other', 'I', 'I', 'It', 'So', 'I', 'That', 'So', 'I', 'That', 'But', 'And', 'But', 'I', 'I', 'Rather', 'I', 'Stop', 'Stop', 'You', 'I', 'Now', 'In', 'Britain', 'B', 'I', 'Listen', 'Alice', 'Herbert', 'Erbert', 'We', 'We', 'But', 'I', 'Don', 'What', 'She', 'She', 'She', 'I', 'I', 'I', 'Cut', 'Cut', 'Look', 'Princess', 'Lucky', 'Guards', 'Make', 'Prince', 'I', 'Not', 'Hic', 'No', 'Until', 'I', 'Until', 'No', 'No', 'You', 'And', 'Hic', 'Right', 'We', 'No', 'Leaving', 'Leaving', 'Yes', 'All', 'Right', 'Hic', 'Right', 'Oh', 'Yes', 'What', 'Oh', 'Look', 'Uh', 'You', 'Alright', 'Hic', 'Right', 'Oh', 'I', 'Uhh', 'N', 'No', 'You', 'Oh', 'We', 'But', 'No', 'Just', 'Until', 'No', 'Just', 'Just', 'Hic', 'Get', 'Get', 'All', 'Right', 'We', 'Hic', 'And', 'What', 'Make', 'The', 'Prince', 'Yes', 'Make', 'Oh', 'Hic', 'Ah', 'I', 'You', 'Is', 'Hic', 'Oh', 'No', 'Right', 'Where', 'We', 'No', 'I', 'Oh', 'I', 'Right', 'But', 'Father', 'Shut', 'And', 'And', 'Hic', 'Oh', 'Well', 'Concorde', 'Thank', 'Most', 'And', 'Over', 'Good', 'Steady', 'And', 'Uuh', 'Come', 'Concorde', 'Message', 'Concorde', 'Concorde', 'Speak', 'To', 'I', 'Please', 'I', 'Tall', 'Tower', 'Swamp', 'Castle', 'At', 'A', 'A', 'This', 'Holy', 'Grail', 'Brave', 'Concorde', 'Uh', 'I', 'I', 'Well', 'I', 'I', 'I', 'I', 'I', 'Oh', 'I', 'Actually', 'I', 'I', 'No', 'Concorde', 'Stay', 'I', 'I', 'Idiom', 'Idiom', 'No', 'I', 'Farewell', 'Concorde', 'I', 'I', 'Shall', 'I', 'Yeah', 'Morning', 'Morning', 'Oooh', 'Ha', 'Hiyya', 'Hey', 'Hiyya', 'Ha', 'Ha', 'Huy', 'Uuh', 'Aaah', 'Ha', 'And', 'Aah', 'Hiyah', 'Aah', 'Aaah', 'Hyy', 'Hya', 'Hiyya', 'Ha', 'Now', 'O', 'Sir', 'Launcelot', 'Camelot', 'I', 'Oh', 'I', 'You', 'Uh', 'I', 'I', 'You', 'Uh', 'You', 'I', 'I', 'I', 'Well', 'I', 'Stop', 'Stop', 'Stop', 'Stop', 'Who', 'I', 'No', 'Uh', 'I', 'Sir', 'Launcelot', 'He', 'Father', 'Well', 'Did', 'Uh', 'Oh', 'Sorry', 'They', 'Well', 'I', 'Um', 'I', 'Don', 'Sir', 'Launcelot', 'I', 'You', 'Well', 'I', 'I', 'Hurry', 'Sir', 'Launcelot', 'Hurry', 'Shut', 'You', 'Well', 'I', 'Didn', 'You', 'Oh', 'Is', 'You', 'This', 'Well', 'I', 'I', 'Camelot', 'I', 'Camelot', 'Are', 'Camelot', 'Hurry', 'Sir', 'Launcelot', 'Uh', 'I', 'Knight', 'King', 'Arthur', 'Very', 'Camelot', 'Uh', 'Is', 'Hurry', 'I', 'Would', 'Well', 'I', 'I', 'Um', 'Oooh', 'I', 'I', 'I', 'Oh', 'Oooh', 'Well', 'We', 'There', 'Oh', 'Ha', 'Hey', 'Ha', 'Hold', 'Stop', 'Hold', 'Hold', 'Hold', 'Hold', 'Hold', 'Please', 'Sorry', 'Sorry', 'You', 'I', 'I', 'I', 'Sorry', 'Sorry', 'He', 'Hold', 'Hold', 'Please', 'Hold', 'This', 'Sir', 'Launcelot', 'Court', 'Camelot', 'Hello', 'He', 'Please', 'Please', 'This', 'Let', 'We', 'Unfortunately', 'Herbert', 'Oh', 'Oh', 'But', 'I', 'I', 'For', 'He', 'Since', 'He', 'For', 'S', 'Uugh', 'Oh', 'And', 'I', 'And', 'I', 'Princess', 'Sir', 'Launcelot', 'Camelot', 'What', 'Look', 'The', 'Prince', 'Oooh', 'The', 'Prince', 'He', 'No', 'I', 'You', 'Tall', 'Tower', 'No', 'I', 'How', 'Well', 'I', 'Not', 'Not', 'No', 'Stop', 'He', 'He', 'Shut', 'He', 'Shut', 'He', 'Shut', 'He', 'Not', 'He', 'He', 'He', 'He', 'Quickly', 'He', 'Come', 'He', 'He', 'No', 'It', 'He', 'I', 'Oh', 'Dramatically', 'Dramatically', 'But', 'Heee', 'Hoa', 'Hoo', 'What', 'Excuse', 'Could', 'King', 'Arthur', 'Old', 'Is', 'Who', 'The', 'Knights', 'Who', 'Say', 'Ni', 'Aggh', 'No', 'Never', 'We', 'If', 'I', 'Agh', 'Do', 'Very', 'If', 'No', 'Never', 'No', 'Ni', 'Nu', 'No', 'Nu', 'No', 'Nu', 'No', 'You', 'No', 'Ni', 'Ni', 'That', 'That', 'You', 'Ni', 'Ohh', 'Ni', 'Ni', 'Agh', 'Ni', 'Ni', 'Ni', 'Ni', 'Ni', 'Are', 'Erm', 'Oh', 'There', 'Nothing', 'Even', 'Did', 'Yes', 'Shrubberies', 'I', 'My', 'Roger', 'Shrubber', 'I', 'Ni', 'No', 'No', 'No', 'O', 'Knights', 'Ni', 'May', 'It', 'I', 'But', 'What', 'We', 'Knights', 'Who', 'Say', 'Ni', 'Ni', 'Shh', 'Shh', 'We', 'Knights', 'Who', 'Say', 'Ecky', 'Ni', 'Therefore', 'What', 'O', 'Knights', 'Knights', 'Who', 'Til', 'Recently', 'Said', 'Ni', 'Firstly', 'Not', 'Ni', 'Then', 'A', 'A', 'A', 'Ni', 'Shh', 'Ni', 'Ni', 'Ni', 'Shh', 'Shh', 'Then', 'We', 'Oh', 'Cut', 'It', 'Aaaugh', 'Aaaugh', 'Augh', 'Ohh', 'Don', 'What', 'I', 'Knights', 'Ni', 'How', 'Aaaaugh', 'You', 'What', 'Agh', 'No', 'No', 'You', 'No', 'Not', 'My', 'Sir', 'Robin', 'Packing', 'And', 'And', 'Yes', 'Sir', 'Robin', 'My', 'It', 'Now', 'Surely', 'Holy', 'Grail', 'He', 'Shut', 'No', 'No', 'Far', 'He', 'Aaaaugh', 'I', 'Aaaaugh', 'Uh', 'No', 'Aaaaugh', 'Aaaaugh', 'Stop', 'The', 'Oh', 'Ow', 'He', 'Patsy', 'Wait', 'I', 'I', 'Ooh', 'I', 'And', 'That', 'Ohh', 'Aaaaugh', 'And', 'Arthur', 'Bedevere', 'Sir', 'Robin', 'Beyond', 'Launcelot', 'Galahad', 'Yay', 'Yay', 'In', 'Nador', 'Robin', 'Get', 'Eee', 'And', 'Yay', 'A', 'Winter', 'Spring', 'Mmm', 'Spring', 'Summer', 'Oh', 'Ahh', 'Summer', 'Winter', 'Oh', 'And', 'Winter', 'Spring', 'Summer', 'Autumn', 'Aah', 'Oh', 'Waa', 'Until', 'King', 'Arthur', 'Eh', 'Oh', 'See', 'Oh', 'Oh', 'Knights', 'Forward', 'What', 'I', 'By', 'There', 'Tim', 'Greetings', 'Tim', 'Enchanter', 'Greetings', 'King', 'Arthur', 'You', 'I', 'You', 'Holy', 'Grail', 'That', 'You', 'O', 'Tim', 'Quite', 'Oh', 'Yes', 'Holy', 'Grail', 'Our', 'Holy', 'Grail', 'Yeah', 'Yes', 'It', 'It', 'Yeah', 'Yup', 'Yup', 'Hm', 'And', 'Yes', 'Yeah', 'We', 'We', 'We', 'Ages', 'Umhm', 'Uh', 'Look', 'Fine', 'Um', 'I', 'I', 'A', 'A', 'A', 'Yes', 'I', 'Y', 'Yes', 'Yup', 'That', 'Yes', 'Oh', 'Oh', 'Thank', 'Ahh', 'Oh', 'Fine', 'Thank', 'Splendid', 'Aah', 'Look', 'Yes', 'I', 'Holy', 'Grail', 'Oh', 'Oh', 'To', 'Caerbannog', 'Olfin', 'Bedwere', 'Rheged', 'Holy', 'Grail', 'Where', 'O', 'Tim', 'Follow', 'But', 'Follow', 'Bones', 'So', 'What', 'They', 'Then', 'Dis', 'Behold', 'Caerbannog', 'Right', 'Keep', 'What', 'W', 'Too', 'What', 'There', 'Where', 'There', 'What', 'It', 'You', 'What', 'You', 'Well', 'Ohh', 'That', 'You', 'I', 'I', 'Look', 'Get', 'He', 'Oh', 'You', 'I', 'What', 'He', 'Go', 'Bors', 'Chop', 'Right', 'Silly', 'One', 'Look', 'Aaaugh', 'Jesus', 'Christ', 'I', 'I', 'I', 'Oh', 'Oh', 'Well', 'I', 'Oh', 'Do', 'Right', 'Oh', 'Charge', 'Aaaaugh', 'Aaaugh', 'Run', 'Run', 'Run', 'Run', 'Ha', 'Ha', 'Ha', 'Ha', 'Right', 'How', 'Gawain', 'Ector', 'And', 'Bors', 'That', 'Three', 'Three', 'Three', 'And', 'That', 'Would', 'Oh', 'Let', 'It', 'Like', 'Well', 'Have', 'No', 'We', 'Holy', 'Hand', 'Grenade', 'Yes', 'The', 'Holy', 'Hand', 'Grenade', 'Antioch', 'Tis', 'Brother', 'Maynard', 'Brother', 'Maynard', 'Bring', 'Holy', 'Hand', 'Grenade', 'Pie', 'Iesu', 'Pie', 'Iesu', 'Pie', 'Iesu', 'Pie', 'Iesu', 'How', 'I', 'Consult', 'Book', 'Armaments', 'Armaments', 'Chapter', 'Two', 'Nine', 'Twenty', 'And', 'Saint', 'Attila', 'O', 'Lord', 'And', 'Lord', 'Skip', 'Brother', 'And', 'Lord', 'First', 'Holy', 'Pin', 'Then', 'Three', 'Four', 'Five', 'Once', 'Holy', 'Hand', 'Grenade', 'Antioch', 'Amen', 'Amen', 'Right', 'One', 'Three', 'Three', 'There', 'Look', 'What', 'What', 'Brother', 'Maynard', 'You', 'It', 'Aramaic', 'Of', 'Joseph', 'Arimathea', 'Course', 'What', 'It', 'Here', 'Joseph', 'Arimathea', 'He', 'Holy', 'Grail', 'Castle', 'What', 'Castle', 'What', 'He', 'Oh', 'Well', 'Look', 'He', 'Well', 'Perhaps', 'Oh', 'Well', 'No', 'Just', 'Aauuggghhh', 'Aaauggh', 'Do', 'Camaaaaaargue', 'Where', 'France', 'I', 'Isn', 'Saint', 'Aauuuves', 'Cornwall', 'No', 'Saint', 'Ives', 'Oh', 'Saint', 'Iiiives', 'Iiiiives', 'Oooohoohohooo', 'No', 'Aauuuuugh', 'Aauuugh', 'N', 'No', 'Oooooooh', 'Oh', 'Yes', 'I', 'Oooh', 'My', 'God', 'It', 'Black', 'Beast', 'Aaauugh', 'Black', 'Beast', 'Aaauugh', 'That', 'That', 'Run', 'Run', 'Run', 'Run', 'Run', 'Keep', 'Shh', 'Shh', 'Shh', 'Shh', 'Shh', 'Shh', 'Shh', 'Shh', 'We', 'Aagh', 'As', 'Black', 'Beast', 'Arthur', 'Ulk', 'The', 'The', 'Holy', 'Grail', 'There', 'The', 'Bridge', 'Death', 'Oh', 'Look', 'There', 'What', 'He', 'Bridge', 'Death', 'He', 'Three', 'Three', 'He', 'Three', 'Three', 'What', 'Then', 'Gorge', 'Eternal', 'Peril', 'Oh', 'I', 'Who', 'Sir', 'Robin', 'Yes', 'Brave', 'Sir', 'Robin', 'Hey', 'I', 'Why', 'Launcelot', 'Yes', 'Let', 'I', 'I', 'No', 'No', 'Hang', 'Hang', 'Hang', 'Just', 'Three', 'Three', 'And', 'I', 'Good', 'Sir', 'Launcelot', 'God', 'Stop', 'Who', 'Bridge', 'Death', 'Ask', 'I', 'What', 'My', 'Sir', 'Launcelot', 'Camelot', 'What', 'To', 'Holy', 'Grail', 'What', 'Blue', 'Right', 'Off', 'Oh', 'Thank', 'That', 'Stop', 'Who', 'Bridge', 'Death', 'Ask', 'I', 'What', 'Sir', 'Robin', 'Camelot', 'What', 'To', 'Holy', 'Grail', 'What', 'Assyria', 'I', 'Auuuuuuuugh', 'Stop', 'What', 'Sir', 'Galahad', 'Camelot', 'What', 'I', 'Grail', 'What', 'Blue', 'No', 'Hee', 'Stop', 'What', 'It', 'Arthur', 'King', 'Britons', 'What', 'To', 'Holy', 'Grail', 'What', 'What', 'An', 'African', 'European', 'Huh', 'I', 'I', 'Auuuuuuuugh', 'How', 'Well', 'Launcelot', 'Launcelot', 'Launcelot', 'Launcelot', 'Launcelot', 'Launcelot', 'Launcelot', 'Launcelot', 'Launcelot', 'The', 'Castle', 'Aaagh', 'Our', 'God', 'Almighty', 'God', 'Thee', 'Thou', 'Jesus', 'Christ', 'Allo', 'English', 'Monsieur', 'Arthur', 'King', 'So', 'French', 'How', 'I', 'Knights', 'Camelot', 'God', 'Himself', 'How', 'English', 'I', 'So', 'French', 'I', 'In', 'Lord', 'No', 'English', 'I', 'If', 'In', 'God', 'Agh', 'Right', 'That', 'Yes', 'Ha', 'Walk', 'Just', 'And', 'And', 'English', 'Thpppt', 'We', 'Yes', 'Stand', 'French', 'Dappy', 'Today', 'In', 'God', 'Hoo', 'Ohh', 'Holy', 'Grail', 'God', 'Ha', 'Charge', 'Hooray', 'S', 'Yes', 'They', 'I', 'Come', 'Anybody', 'All', 'Come', 'Back', 'S', 'Get', 'Back', 'Right', 'Just', 'Come', 'Come', 'Put', 'Clear', 'Come', 'With', 'Which', 'Oh', 'Come', 'Put', 'Get', 'We', 'Ahh', 'Ooh', 'Come', 'Back', 'Riiight', 'Come', 'Run', 'Run', 'Pull', 'My', 'Come', 'Back', 'Back', 'Right', 'Come', 'Everything', 'All', 'That', 'Just', 'Christ']\n"
          ]
        }
      ]
    },
    {
      "cell_type": "code",
      "source": [
        "print(termina_ize)"
      ],
      "metadata": {
        "colab": {
          "base_uri": "https://localhost:8080/"
        },
        "id": "XOUkbq0JkSfG",
        "outputId": "ea1c54d0-35dc-4faf-b2a8-34b4f01a3a0a"
      },
      "execution_count": null,
      "outputs": [
        {
          "output_type": "stream",
          "name": "stdout",
          "text": [
            "[]\n"
          ]
        }
      ]
    },
    {
      "cell_type": "markdown",
      "source": [
        "### Debido a que no hay palabras que terminan en IZE, solo se presentan en el dataframe las listas de palabrasa que contienen z, secuencia pt y mayúsucula, solo al inicio.**"
      ],
      "metadata": {
        "id": "KqnQ_C7qp0Az"
      }
    },
    {
      "cell_type": "code",
      "source": [
        "import pandas as pd\n"
      ],
      "metadata": {
        "id": "5XiqIkAFilX-"
      },
      "execution_count": null,
      "outputs": []
    },
    {
      "cell_type": "code",
      "source": [
        "user_list = list(zip(tienen_z, secuencia_pt, may_title))\n",
        "df = pd.DataFrame(user_list)\n",
        "print(df)"
      ],
      "metadata": {
        "colab": {
          "base_uri": "https://localhost:8080/"
        },
        "id": "_hasDsEAh4QN",
        "outputId": "1d7cf7fb-556f-4536-e723-1ffa65853c66"
      },
      "execution_count": null,
      "outputs": [
        {
          "output_type": "stream",
          "name": "stdout",
          "text": [
            "         0           1          2\n",
            "0     zone       empty       Whoa\n",
            "1   amazes       aptly       Halt\n",
            "2  Fetchez    Thpppppt        Who\n",
            "3  Fetchez       Thppt         It\n",
            "4     zoop       Thppt          I\n",
            "5      zoo       empty     Arthur\n",
            "6     zhiv     Thppppt      Uther\n",
            "7   frozen   temptress  Pendragon\n",
            "8    zoosh  temptation    Camelot\n"
          ]
        }
      ]
    }
  ]
}