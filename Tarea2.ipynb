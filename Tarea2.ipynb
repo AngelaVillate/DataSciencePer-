{
  "nbformat": 4,
  "nbformat_minor": 0,
  "metadata": {
    "colab": {
      "provenance": []
    },
    "kernelspec": {
      "name": "python3",
      "display_name": "Python 3"
    },
    "language_info": {
      "name": "python"
    }
  },
  "cells": [
    {
      "cell_type": "markdown",
      "source": [
        "# **Tarea 2. Distribución de frecuencia de palabras**\n",
        "Elaborado por: Angela Cristina Villate\n",
        "angevillate@gmail.com\n"
      ],
      "metadata": {
        "id": "au380dgsdfNm"
      }
    },
    {
      "cell_type": "code",
      "execution_count": 32,
      "metadata": {
        "id": "bzU0UIzAXpwJ"
      },
      "outputs": [],
      "source": [
        "import nltk"
      ]
    },
    {
      "cell_type": "code",
      "source": [
        "from nltk.corpus import PlaintextCorpusReader\n",
        "\n",
        "ruta = './'\n",
        "\n",
        "corpus1 = PlaintextCorpusReader(ruta,'.txt')"
      ],
      "metadata": {
        "id": "79amG8K5YEJ1"
      },
      "execution_count": 33,
      "outputs": []
    },
    {
      "cell_type": "code",
      "source": [
        "fileids=corpus1.fileids()\n",
        "print(fileids)\n",
        "art1 = corpus1.words('07_es_internacional.txt')\n",
        "print(art1)"
      ],
      "metadata": {
        "colab": {
          "base_uri": "https://localhost:8080/"
        },
        "id": "ZZdabll3YbLy",
        "outputId": "cf77ba58-41dd-4f9b-d1ac-954d3a9590e5"
      },
      "execution_count": 34,
      "outputs": [
        {
          "output_type": "stream",
          "name": "stdout",
          "text": [
            "[]\n",
            "['Sandra', 'Araujo', ',', 'de', '51', 'años', ',', ...]\n"
          ]
        }
      ]
    },
    {
      "cell_type": "code",
      "source": [
        " import nltk\n",
        " nltk.download('brown')"
      ],
      "metadata": {
        "colab": {
          "base_uri": "https://localhost:8080/"
        },
        "id": "OGIhZ0tjZa-a",
        "outputId": "7a604e47-3e1a-4a00-b1f0-36efa8f840a2"
      },
      "execution_count": 35,
      "outputs": [
        {
          "output_type": "stream",
          "name": "stderr",
          "text": [
            "[nltk_data] Downloading package brown to /root/nltk_data...\n",
            "[nltk_data]   Package brown is already up-to-date!\n"
          ]
        },
        {
          "output_type": "execute_result",
          "data": {
            "text/plain": [
              "True"
            ]
          },
          "metadata": {},
          "execution_count": 35
        }
      ]
    },
    {
      "cell_type": "code",
      "source": [
        "from nltk.corpus import brown\n",
        "brown.words()"
      ],
      "metadata": {
        "colab": {
          "base_uri": "https://localhost:8080/"
        },
        "id": "XvV76I-TZ4lx",
        "outputId": "a8faa0f0-9745-4361-92ec-d53e0d96298c"
      },
      "execution_count": 36,
      "outputs": [
        {
          "output_type": "execute_result",
          "data": {
            "text/plain": [
              "['The', 'Fulton', 'County', 'Grand', 'Jury', 'said', ...]"
            ]
          },
          "metadata": {},
          "execution_count": 36
        }
      ]
    },
    {
      "cell_type": "code",
      "source": [
        "from nltk.corpus import brown\n",
        "print (brown.categories())\n",
        "\n"
      ],
      "metadata": {
        "colab": {
          "base_uri": "https://localhost:8080/"
        },
        "id": "_C5KSaaoexTT",
        "outputId": "26fe1e9d-5360-4ebe-addf-e619faf96a1a"
      },
      "execution_count": 37,
      "outputs": [
        {
          "output_type": "stream",
          "name": "stdout",
          "text": [
            "['adventure', 'belles_lettres', 'editorial', 'fiction', 'government', 'hobbies', 'humor', 'learned', 'lore', 'mystery', 'news', 'religion', 'reviews', 'romance', 'science_fiction']\n"
          ]
        }
      ]
    },
    {
      "cell_type": "code",
      "source": [
        "print (brown.words(categories= 'news'))"
      ],
      "metadata": {
        "colab": {
          "base_uri": "https://localhost:8080/"
        },
        "id": "bBGbHfSIas6h",
        "outputId": "13cd78df-5583-4e44-91f6-d031e94c7d89"
      },
      "execution_count": 38,
      "outputs": [
        {
          "output_type": "stream",
          "name": "stdout",
          "text": [
            "['The', 'Fulton', 'County', 'Grand', 'Jury', 'said', ...]\n"
          ]
        }
      ]
    },
    {
      "cell_type": "code",
      "source": [
        "import nltk \n",
        "freq2 = nltk.ConditionalFreqDist((categoria, word) for categoria in brown.categories() for word in brown.words(categories=categoria))"
      ],
      "metadata": {
        "id": "XRcVeROabaWA"
      },
      "execution_count": 39,
      "outputs": []
    },
    {
      "cell_type": "code",
      "source": [
        "listado = ['risk', 'international', 'International']\n",
        "graf1 = freq2.plot(conditions=['belles_lettres', 'government', 'reviews', 'religion', 'news', 'learned'], samples = listado)\n",
        "tab= freq2.tabulate(samples=listado)"
      ],
      "metadata": {
        "colab": {
          "base_uri": "https://localhost:8080/",
          "height": 611
        },
        "id": "bmEHKYEpg26j",
        "outputId": "a20b26dc-1f0d-46d4-cdbd-60ff48b90e3a"
      },
      "execution_count": 43,
      "outputs": [
        {
          "output_type": "display_data",
          "data": {
            "text/plain": [
              "<Figure size 432x288 with 1 Axes>"
            ],
            "image/png": "[encoded data removed]"
          },
          "metadata": {
            "needs_background": "light"
          }
        },
        {
          "output_type": "stream",
          "name": "stdout",
          "text": [
            "                         risk international International \n",
            "      adventure             1             0             0 \n",
            " belles_lettres            11            17             3 \n",
            "      editorial             9            11             3 \n",
            "        fiction             0             1             0 \n",
            "     government             2            22             5 \n",
            "        hobbies             1             1             9 \n",
            "          humor             0             0             0 \n",
            "        learned             6            32             3 \n",
            "           lore             3             7             1 \n",
            "        mystery             3             0             0 \n",
            "           news             4            23            13 \n",
            "       religion            11             0             0 \n",
            "        reviews             1             3             1 \n",
            "        romance             1             0             0 \n",
            "science_fiction             0             0             0 \n"
          ]
        }
      ]
    },
    {
      "cell_type": "markdown",
      "source": [
        "# Nueva sección"
      ],
      "metadata": {
        "id": "CDI7d_0CYzek"
      }
    },
    {
      "cell_type": "markdown",
      "source": [
        "# Nueva sección"
      ],
      "metadata": {
        "id": "Lgfb0l3OY00L"
      }
    }
  ]
}